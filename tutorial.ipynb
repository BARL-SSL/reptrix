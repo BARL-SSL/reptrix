{
 "cells": [
  {
   "cell_type": "markdown",
   "metadata": {},
   "source": [
    "# Reptrix Tutorial \n",
    "\n",
    "In this tutorial, we show how to use reptrix to assess representations of a model pretrained using self-supervised learning. \n",
    "\n",
    "Here we use the [STL-10](https://cs.stanford.edu/~acoates/stl10/) dataset, which contains 10 classes of images. \n",
    "\n",
    "We will use the [SimCLR](https://arxiv.org/abs/2002.05709), [Barlow Twins](https://arxiv.org/abs/2103.03230), and [BYOL](https://arxiv.org/abs/2006.07733) models as examples.\n",
    "\n",
    "To assess the quality of the learned representations, we will use various metrics, including:\n",
    "\n",
    "- **Alpha**: This metric computes the eigenvalues of the covariance matrix of the representations and fits a power-law distribution to them. The exponent of the power-law distribution is called the alpha exponent, which measures the heavy-tailedness of the distribution. A lower alpha exponent indicates that the representations are more discriminative.\n",
    "\n",
    "- **RankMe**: This metric computes the rank of the covariance matrix of the representations. A higher rank indicates representations of higher capacity.\n",
    "\n",
    "- **Lidar**: \n",
    "\n",
    "We will compute these metrics using the Reptrix library, which provides a convenient interface for representation analysis. Let's dive into the code and explore the evaluation process in detail.\n",
    "\n"
   ]
  },
  {
   "cell_type": "markdown",
   "metadata": {},
   "source": [
    "## Import everything we need"
   ]
  },
  {
   "cell_type": "code",
   "execution_count": 4,
   "metadata": {},
   "outputs": [],
   "source": [
    "import torch\n",
    "import torch.nn as nn\n",
    "import torch.nn.functional as F\n",
    "import torchvision"
   ]
  },
  {
   "cell_type": "markdown",
   "metadata": {},
   "source": [
    "Function to get the features of from the pretrained encoder model using a dataset. "
   ]
  },
  {
   "cell_type": "code",
   "execution_count": 28,
   "metadata": {},
   "outputs": [],
   "source": [
    "from tqdm import tqdm\n",
    "def get_features(encoder_function, dataloader):\n",
    "    # Loop over the dataset and collect the representations\n",
    "    all_features = []\n",
    "\n",
    "    # Loop over the dataset and collect the representations\n",
    "    for i, data in tqdm(enumerate(dataloader, 0)):\n",
    "        inputs, labels = data\n",
    "        with torch.no_grad():\n",
    "            features = encoder_function(inputs)\n",
    "            all_features.append(features)\n",
    "            \n",
    "    # Concatenate all the features\n",
    "    all_features = torch.cat(all_features, dim=0)\n",
    "    return all_features"
   ]
  },
  {
   "cell_type": "markdown",
   "metadata": {},
   "source": [
    "## Get the STL-10 dataset and the pretrained models"
   ]
  },
  {
   "cell_type": "code",
   "execution_count": 9,
   "metadata": {},
   "outputs": [],
   "source": [
    "transform = torchvision.transforms.Compose([\n",
    "    torchvision.transforms.ToTensor(),\n",
    "    torchvision.transforms.Normalize((0.4467, 0.4398, 0.4066), (0.2242, 0.2215, 0.2239))\n",
    "])\n",
    "\n",
    "# Get the STL10 test dataset to measure the quality of the representations learned by the model\n",
    "testset = torchvision.datasets.STL10(root='./data', split='test', download=False, transform=torchvision.transforms.ToTensor())\n",
    "\n",
    "# Define a dataloader to load the test dataset\n",
    "testloader = torch.utils.data.DataLoader(testset, batch_size=256, shuffle=False, num_workers=4)"
   ]
  },
  {
   "cell_type": "markdown",
   "metadata": {},
   "source": [
    "### 1. Encoder trained with Barlow Twins\n",
    "\n",
    "In this section, we will evaluate the representations learned by an encoder trained with the Barlow Twins method."
   ]
  },
  {
   "cell_type": "code",
   "execution_count": 10,
   "metadata": {},
   "outputs": [
    {
     "name": "stderr",
     "output_type": "stream",
     "text": [
      "Using cache found in /home/mila/a/arnab.mondal/.cache/torch/hub/facebookresearch_barlowtwins_main\n",
      "/home/mila/a/arnab.mondal/.conda/envs/equiadapt/lib/python3.10/site-packages/torchvision/models/_utils.py:208: UserWarning: The parameter 'pretrained' is deprecated since 0.13 and may be removed in the future, please use 'weights' instead.\n",
      "  warnings.warn(\n",
      "/home/mila/a/arnab.mondal/.conda/envs/equiadapt/lib/python3.10/site-packages/torchvision/models/_utils.py:223: UserWarning: Arguments other than a weight enum or `None` for 'weights' are deprecated since 0.13 and may be removed in the future. The current behavior is equivalent to passing `weights=None`.\n",
      "  warnings.warn(msg)\n"
     ]
    }
   ],
   "source": [
    "# Define a resnet encoder using pytorch where you can load the weights from a pre-trained model\n",
    "# We will use encoder that is trained using Barlow Twins\n",
    "encoder = torch.hub.load('facebookresearch/barlowtwins:main', 'resnet50')\n",
    "# Remove the final fully connected layer so that the model outputs the 2048 feature vector\n",
    "encoder = torch.nn.Sequential(*(list(encoder.children())[:-1]))"
   ]
  },
  {
   "cell_type": "code",
   "execution_count": 12,
   "metadata": {},
   "outputs": [],
   "source": [
    "# Set the model to evaluation mode\n",
    "encoder.eval()\n",
    "    \n",
    "all_representations = get_features(encoder, testloader)"
   ]
  },
  {
   "cell_type": "code",
   "execution_count": 14,
   "metadata": {},
   "outputs": [
    {
     "name": "stderr",
     "output_type": "stream",
     "text": [
      "/home/mila/a/arnab.mondal/.conda/envs/equiadapt/lib/python3.10/site-packages/scipy/__init__.py:155: UserWarning: A NumPy version >=1.18.5 and <1.26.0 is required for this version of SciPy (detected version 1.26.4\n",
      "  warnings.warn(f\"A NumPy version >={np_minversion} and <{np_maxversion}\"\n"
     ]
    }
   ],
   "source": [
    "from reptrix import alpha, rankme\n",
    "\n",
    "metric_alpha = alpha.get_alpha(all_representations)[0]\n",
    "metric_rankme = rankme.get_rankme(all_representations)\n",
    "print(f'Values of different metrics: Alpha: {metric_alpha}, Rankme: {metric_rankme}')"
   ]
  },
  {
   "cell_type": "markdown",
   "metadata": {},
   "source": [
    "### 2. Vit Encoder trained with DINO"
   ]
  },
  {
   "cell_type": "code",
   "execution_count": 24,
   "metadata": {},
   "outputs": [
    {
     "name": "stderr",
     "output_type": "stream",
     "text": [
      "Using cache found in /home/mila/a/arnab.mondal/.cache/torch/hub/facebookresearch_dino_main\n"
     ]
    }
   ],
   "source": [
    "# Define a vit encoder using pytorch where you can load the weights from a pre-trained model\n",
    "# We will use encoder that is trained using Dino\n",
    "encoder = torch.hub.load('facebookresearch/dino:main', 'dino_vits16')\n",
    "\n",
    "\n"
   ]
  },
  {
   "cell_type": "code",
   "execution_count": 33,
   "metadata": {},
   "outputs": [],
   "source": [
    "# Set the model to evaluation mode\n",
    "encoder.eval()\n",
    "    \n",
    "all_representations = get_features(encoder.forward, testloader)\n",
    "\n",
    "print('Shape of the representations:', all_representations.shape) "
   ]
  },
  {
   "cell_type": "code",
   "execution_count": 36,
   "metadata": {},
   "outputs": [
    {
     "name": "stdout",
     "output_type": "stream",
     "text": [
      "Values of different metrics: Alpha: 0.8250624571053066, Rankme: 152.54171752929688\n"
     ]
    }
   ],
   "source": [
    "metric_alpha = alpha.get_alpha(all_representations)[0]\n",
    "metric_rankme = rankme.get_rankme(all_representations)\n",
    "print(f'Values of different metrics: Alpha: {metric_alpha}, Rankme: {metric_rankme}')"
   ]
  }
 ],
 "metadata": {
  "kernelspec": {
   "display_name": "equiadapt",
   "language": "python",
   "name": "python3"
  },
  "language_info": {
   "codemirror_mode": {
    "name": "ipython",
    "version": 3
   },
   "file_extension": ".py",
   "mimetype": "text/x-python",
   "name": "python",
   "nbconvert_exporter": "python",
   "pygments_lexer": "ipython3",
   "version": "3.10.13"
  }
 },
 "nbformat": 4,
 "nbformat_minor": 2
}
