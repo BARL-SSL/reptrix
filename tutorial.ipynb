{
 "cells": [
  {
   "cell_type": "markdown",
   "metadata": {},
   "source": [
    "# Reptrix Tutorial \n",
    "\n",
    "In this tutorial, we show how to use reptrix to assess representations of a model pretrained using self-supervised learning. Here we use the [CIFAR-10](https://www.cs.toronto.edu/~kriz/cifar.html) dataset to get the representations.\n",
    "\n",
    "We will use the [SimCLR](https://arxiv.org/abs/2002.05709), [Barlow Twins](https://arxiv.org/abs/2103.03230), and [BYOL](https://arxiv.org/abs/2006.07733) models as examples.\n",
    "\n"
   ]
  },
  {
   "cell_type": "code",
   "execution_count": 1,
   "metadata": {},
   "outputs": [],
   "source": [
    "import torch"
   ]
  }
 ],
 "metadata": {
  "kernelspec": {
   "display_name": "equiadapt",
   "language": "python",
   "name": "python3"
  },
  "language_info": {
   "codemirror_mode": {
    "name": "ipython",
    "version": 3
   },
   "file_extension": ".py",
   "mimetype": "text/x-python",
   "name": "python",
   "nbconvert_exporter": "python",
   "pygments_lexer": "ipython3",
   "version": "3.10.13"
  }
 },
 "nbformat": 4,
 "nbformat_minor": 2
}
